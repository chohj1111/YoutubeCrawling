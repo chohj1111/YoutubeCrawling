{
 "cells": [
  {
   "cell_type": "code",
   "execution_count": 1,
   "metadata": {
    "id": "PCjsgdVGkZUK"
   },
   "outputs": [],
   "source": [
    "import csv\n",
    "import os\n",
    "import re\n",
    "import threading\n",
    "import logging\n",
    "import multiprocessing\n",
    "\n",
    "from pytube import YouTube"
   ]
  },
  {
   "cell_type": "code",
   "execution_count": 2,
   "metadata": {
    "id": "PVsqrPjZkZbi"
   },
   "outputs": [],
   "source": [
    "def createFolder(directory):\n",
    "    try:\n",
    "        if not os.path.exists(directory):\n",
    "            os.makedirs(directory)\n",
    "    except OSError:\n",
    "        print ('Error: Creating directory. ' +  directory)"
   ]
  },
  {
   "cell_type": "code",
   "execution_count": 3,
   "metadata": {
    "id": "Fu3Jlyn8kZhF"
   },
   "outputs": [],
   "source": [
    "start_time = [0]\n",
    "def start_time_func(index):\n",
    "    global file_name, start_time, url, list_idx, yt\n",
    "    if os.path.isfile(file_name+'_'+ str(index) + '.mp4'):return\n",
    "    \n",
    "    mp4files = yt.streams.filter(adaptive=True, file_extension='mp4', only_video=True).order_by('resolution').desc().first().download(file_name+'_'+ str(index) + '.mp4')\n",
    "#    command = 'ffmpeg $(youtube-dl -g \\''+ url[list_idx] +'\\' | sed \"s/.*/-ss '+ str(index) + ' -i &/\") -loglevel error -t 10 -c copy -strict -2 ' + file_name+'_'+ str(index) + '.mp4'\n",
    "    command = 'ffmpeg $(youtube-dl -g \\''+ url[list_idx] +'\\' | sed \"s/.*/-ss '+ str(index) + ' -i &/\") -loglevel error -c copy -strict -2 ' + file_name+'_'+ str(index) + '.mp4'\n",
    "#    result = os.popen(command).read()\n",
    "\n",
    "import numpy as np\n",
    "\n",
    "def make_data(idx):\n",
    "    global file_name, start_time, url, list_idx, yt\n",
    "    print(\"{} / {}\\n\".format(idx, len(url)))\n",
    "    createFolder(label_list[idx]) # 폴더 만들기\n",
    "    count = 10\n",
    "\n",
    "    '''\n",
    "        파일이름 공백제거\n",
    "    '''\n",
    "    print(url[idx])\n",
    "    yt = YouTube(url[idx])   # youtube title로 file 이름 생성\n",
    "    try:length = yt.length\n",
    "    except:\n",
    "        print('deleted video '+url[idx])\n",
    "        return\n",
    "    \n",
    "    if length < 10:\n",
    "        print('Too short download '+url[idx])\n",
    "        return\n",
    "    #did_list = set([i for i in range(int(start_time[idx])+1)])\n",
    "    rand_list = [0]\n",
    "    '''\n",
    "    for rand_idx in range(count):\n",
    "        choice_num = int(start_time[idx])\n",
    "        did_list.update([choice_num])\n",
    "        while choice_num in did_list: choice_num = np.random.randint(start_time[idx], length-10)\n",
    "        did_list.update([i for i in range(choice_num, choice_num+10)])\n",
    "        rand_list.append(choice_num)\n",
    "    '''\n",
    "        \n",
    "\n",
    "    file_name = yt.title\n",
    "    file_name = re.sub('[^a-zA-Z0-9 \\n\\.]', '', file_name)\n",
    "    file_name = file_name.replace(\" \", \"_\")\n",
    "    file_name = label_list[idx]+\"/\"+file_name\n",
    "    list_idx = idx\n",
    "    \n",
    "    #for len_idx in rand_list:\n",
    "    #    start_time_func(len_idx)\n",
    "        \n",
    "    num_cores = multiprocessing.cpu_count()\n",
    "    pool = multiprocessing.Pool(processes=num_cores)\n",
    "    pool.map(start_time_func, rand_list)"
   ]
  },
  {
   "cell_type": "code",
   "execution_count": 4,
   "metadata": {
    "colab": {
     "base_uri": "https://localhost:8080/"
    },
    "id": "Y2rKkxsMkZwJ",
    "outputId": "d32edd2d-fc7a-4dcc-f5c6-8f89aafa6e95"
   },
   "outputs": [],
   "source": [
    "label_list = []\n",
    "url = []\n",
    "start_time = []\n",
    "\n",
    "with open('dog_cat.csv', 'r', encoding='utf-8') as f:\n",
    "    rdr = csv.reader(f)\n",
    "    next(rdr) # skip header\n",
    "\n",
    "    for idx, line in enumerate(rdr):\n",
    "        if idx > 281:label_list.append(\"dog\")\n",
    "        else:label_list.append(\"cat\")\n",
    "\n",
    "        url.append(line[1].split(\"&ab\")[0])\n",
    "        label = line[1]\n",
    "        if label != \"wind noise\":continue\n",
    "        label_list.append(line[1].replace(\" \", \"_\"))\n",
    "        url.append(line[2])\n",
    "        start_time.append(line[3])"
   ]
  },
  {
   "cell_type": "code",
   "execution_count": 5,
   "metadata": {
    "scrolled": true
   },
   "outputs": [
    {
     "name": "stderr",
     "output_type": "stream",
     "text": [
      "  0%|          | 0/312 [00:00<?, ?it/s]"
     ]
    },
    {
     "name": "stdout",
     "output_type": "stream",
     "text": [
      "94 / 312\n",
      "\n",
      "https://www.youtube.com/watch?v=6o3ERBM8olc\n"
     ]
    },
    {
     "name": "stderr",
     "output_type": "stream",
     "text": [
      " 30%|███       | 95/312 [00:23<00:54,  3.97it/s]"
     ]
    },
    {
     "name": "stdout",
     "output_type": "stream",
     "text": [
      "95 / 312\n",
      "\n",
      "https://www.youtube.com/watch?v=WzU8QXkBEh8\n"
     ]
    },
    {
     "name": "stderr",
     "output_type": "stream",
     "text": [
      " 31%|███       | 96/312 [00:45<02:01,  1.77it/s]"
     ]
    },
    {
     "name": "stdout",
     "output_type": "stream",
     "text": [
      "96 / 312\n",
      "\n",
      "https://www.youtube.com/watch?v=Tj0zHLeBpfw\n"
     ]
    },
    {
     "name": "stderr",
     "output_type": "stream",
     "text": [
      " 31%|███       | 97/312 [03:03<12:15,  3.42s/it]"
     ]
    },
    {
     "name": "stdout",
     "output_type": "stream",
     "text": [
      "97 / 312\n",
      "\n",
      "https://www.youtube.com/watch?v=AYjdI8WePU0\n"
     ]
    },
    {
     "name": "stderr",
     "output_type": "stream",
     "text": [
      " 31%|███▏      | 98/312 [03:34<14:58,  4.20s/it]"
     ]
    },
    {
     "name": "stdout",
     "output_type": "stream",
     "text": [
      "98 / 312\n",
      "\n",
      "https://www.youtube.com/watch?v=ae_TzkMD_9M\n"
     ]
    },
    {
     "name": "stderr",
     "output_type": "stream",
     "text": [
      " 32%|███▏      | 99/312 [05:46<32:53,  9.27s/it]"
     ]
    },
    {
     "name": "stdout",
     "output_type": "stream",
     "text": [
      "99 / 312\n",
      "\n",
      "https://www.youtube.com/watch?v=V24_tcwR8OU\n"
     ]
    },
    {
     "name": "stderr",
     "output_type": "stream",
     "text": [
      " 32%|███▏      | 100/312 [06:05<34:30,  9.77s/it]"
     ]
    },
    {
     "name": "stdout",
     "output_type": "stream",
     "text": [
      "100 / 312\n",
      "\n",
      "https://www.youtube.com/watch?v=K9Mk2Aqk9Mw\n"
     ]
    },
    {
     "name": "stderr",
     "output_type": "stream",
     "text": [
      " 32%|███▏      | 101/312 [06:21<35:56, 10.22s/it]"
     ]
    },
    {
     "name": "stdout",
     "output_type": "stream",
     "text": [
      "101 / 312\n",
      "\n",
      "https://www.youtube.com/watch?v=1lXSKsKz-hw\n"
     ]
    },
    {
     "name": "stderr",
     "output_type": "stream",
     "text": [
      " 33%|███▎      | 102/312 [06:55<43:19, 12.38s/it]"
     ]
    },
    {
     "name": "stdout",
     "output_type": "stream",
     "text": [
      "102 / 312\n",
      "\n",
      "https://www.youtube.com/watch?v=9WLXw7wTPyc\n"
     ]
    },
    {
     "name": "stderr",
     "output_type": "stream",
     "text": [
      " 33%|███▎      | 103/312 [07:21<48:49, 14.01s/it]"
     ]
    },
    {
     "name": "stdout",
     "output_type": "stream",
     "text": [
      "103 / 312\n",
      "\n",
      "https://www.youtube.com/watch?v=54V5g4xggUk\n"
     ]
    },
    {
     "name": "stderr",
     "output_type": "stream",
     "text": [
      " 33%|███▎      | 104/312 [07:59<1:00:06, 17.34s/it]"
     ]
    },
    {
     "name": "stdout",
     "output_type": "stream",
     "text": [
      "104 / 312\n",
      "\n",
      "https://www.youtube.com/watch?v=7FPCy-_jdpk\n"
     ]
    },
    {
     "name": "stderr",
     "output_type": "stream",
     "text": [
      " 34%|███▎      | 105/312 [08:22<1:03:36, 18.44s/it]"
     ]
    },
    {
     "name": "stdout",
     "output_type": "stream",
     "text": [
      "105 / 312\n",
      "\n",
      "https://www.youtube.com/watch?v=1bv71BlDe6I\n"
     ]
    },
    {
     "name": "stderr",
     "output_type": "stream",
     "text": [
      " 34%|███▍      | 106/312 [08:43<1:05:01, 18.94s/it]"
     ]
    },
    {
     "name": "stdout",
     "output_type": "stream",
     "text": [
      "106 / 312\n",
      "\n",
      "https://www.youtube.com/watch?v=3soPkaV5pYE\n"
     ]
    },
    {
     "name": "stderr",
     "output_type": "stream",
     "text": [
      " 34%|███▍      | 107/312 [08:59<1:02:00, 18.15s/it]"
     ]
    },
    {
     "name": "stdout",
     "output_type": "stream",
     "text": [
      "107 / 312\n",
      "\n",
      "https://www.youtube.com/watch?v=crM_jPgudUQ\n"
     ]
    },
    {
     "name": "stderr",
     "output_type": "stream",
     "text": [
      " 35%|███▍      | 108/312 [09:19<1:03:08, 18.57s/it]"
     ]
    },
    {
     "name": "stdout",
     "output_type": "stream",
     "text": [
      "108 / 312\n",
      "\n",
      "https://www.youtube.com/watch?v=rK994grTlJg\n"
     ]
    },
    {
     "name": "stderr",
     "output_type": "stream",
     "text": [
      " 35%|███▍      | 109/312 [09:38<1:03:19, 18.72s/it]"
     ]
    },
    {
     "name": "stdout",
     "output_type": "stream",
     "text": [
      "109 / 312\n",
      "\n",
      "https://www.youtube.com/watch?v=55P6ctAje3g\n"
     ]
    },
    {
     "name": "stderr",
     "output_type": "stream",
     "text": [
      " 35%|███▌      | 110/312 [09:58<1:03:58, 19.00s/it]"
     ]
    },
    {
     "name": "stdout",
     "output_type": "stream",
     "text": [
      "110 / 312\n",
      "\n",
      "https://www.youtube.com/watch?v=AoY8i5pc0v4\n"
     ]
    },
    {
     "name": "stderr",
     "output_type": "stream",
     "text": [
      " 36%|███▌      | 111/312 [10:09<56:26, 16.85s/it]  "
     ]
    },
    {
     "name": "stdout",
     "output_type": "stream",
     "text": [
      "111 / 312\n",
      "\n",
      "https://www.youtube.com/watch?v=yi8rStHi130\n"
     ]
    },
    {
     "name": "stderr",
     "output_type": "stream",
     "text": [
      " 36%|███▌      | 112/312 [10:22<52:35, 15.78s/it]"
     ]
    },
    {
     "name": "stdout",
     "output_type": "stream",
     "text": [
      "112 / 312\n",
      "\n",
      "https://www.youtube.com/watch?v=CLIvzz2jM88\n"
     ]
    },
    {
     "name": "stderr",
     "output_type": "stream",
     "text": [
      " 36%|███▌      | 113/312 [10:33<47:52, 14.43s/it]"
     ]
    },
    {
     "name": "stdout",
     "output_type": "stream",
     "text": [
      "113 / 312\n",
      "\n",
      "https://www.youtube.com/watch?v=LdHzvx-hMHQ\n"
     ]
    },
    {
     "name": "stderr",
     "output_type": "stream",
     "text": [
      " 37%|███▋      | 114/312 [11:08<1:07:47, 20.54s/it]"
     ]
    },
    {
     "name": "stdout",
     "output_type": "stream",
     "text": [
      "114 / 312\n",
      "\n",
      "https://www.youtube.com/watch?v=RJNOeL6BnMA\n"
     ]
    },
    {
     "name": "stderr",
     "output_type": "stream",
     "text": [
      " 37%|███▋      | 115/312 [11:31<1:09:22, 21.13s/it]"
     ]
    },
    {
     "name": "stdout",
     "output_type": "stream",
     "text": [
      "115 / 312\n",
      "\n",
      "https://www.youtube.com/watch?v=ECWAPSqQ-RQ\n"
     ]
    },
    {
     "name": "stderr",
     "output_type": "stream",
     "text": [
      " 37%|███▋      | 116/312 [12:42<1:57:04, 35.84s/it]"
     ]
    },
    {
     "name": "stdout",
     "output_type": "stream",
     "text": [
      "116 / 312\n",
      "\n",
      "https://www.youtube.com/watch?v=jfnCCCcXNnk\n"
     ]
    },
    {
     "name": "stderr",
     "output_type": "stream",
     "text": [
      " 38%|███▊      | 117/312 [12:52<1:32:00, 28.31s/it]"
     ]
    },
    {
     "name": "stdout",
     "output_type": "stream",
     "text": [
      "117 / 312\n",
      "\n",
      "https://www.youtube.com/watch?v=AoY8i5pc0v4\n"
     ]
    },
    {
     "name": "stderr",
     "output_type": "stream",
     "text": [
      " 38%|███▊      | 118/312 [12:58<1:10:11, 21.71s/it]"
     ]
    },
    {
     "name": "stdout",
     "output_type": "stream",
     "text": [
      "118 / 312\n",
      "\n",
      "https://www.youtube.com/watch?v=GBDOOahTf4w\n"
     ]
    },
    {
     "name": "stderr",
     "output_type": "stream",
     "text": [
      " 38%|███▊      | 119/312 [13:21<1:10:34, 21.94s/it]"
     ]
    },
    {
     "name": "stdout",
     "output_type": "stream",
     "text": [
      "119 / 312\n",
      "\n",
      "https://www.youtube.com/watch?v=vjmY4-hM_-w\n"
     ]
    },
    {
     "name": "stderr",
     "output_type": "stream",
     "text": [
      " 38%|███▊      | 120/312 [13:35<1:02:46, 19.62s/it]"
     ]
    },
    {
     "name": "stdout",
     "output_type": "stream",
     "text": [
      "120 / 312\n",
      "\n",
      "https://www.youtube.com/watch?v=bDMB6V6eJpc\n"
     ]
    },
    {
     "name": "stderr",
     "output_type": "stream",
     "text": [
      " 39%|███▉      | 121/312 [13:59<1:06:48, 20.99s/it]"
     ]
    },
    {
     "name": "stdout",
     "output_type": "stream",
     "text": [
      "121 / 312\n",
      "\n",
      "https://www.youtube.com/watch?v=3IIPtFOKglA\n"
     ]
    },
    {
     "name": "stderr",
     "output_type": "stream",
     "text": [
      " 39%|███▉      | 122/312 [14:14<1:00:09, 19.00s/it]"
     ]
    },
    {
     "name": "stdout",
     "output_type": "stream",
     "text": [
      "122 / 312\n",
      "\n",
      "https://www.youtube.com/watch?v=LfpKF1lfS6U\n"
     ]
    },
    {
     "name": "stderr",
     "output_type": "stream",
     "text": [
      " 39%|███▉      | 123/312 [14:36<1:03:06, 20.03s/it]"
     ]
    },
    {
     "name": "stdout",
     "output_type": "stream",
     "text": [
      "123 / 312\n",
      "\n",
      "https://www.youtube.com/watch?v=mkNShCfHqo8\n"
     ]
    },
    {
     "name": "stderr",
     "output_type": "stream",
     "text": [
      " 40%|███▉      | 124/312 [15:00<1:06:03, 21.08s/it]"
     ]
    },
    {
     "name": "stdout",
     "output_type": "stream",
     "text": [
      "124 / 312\n",
      "\n",
      "https://www.youtube.com/watch?v=1ee9UKJ18mU\n"
     ]
    },
    {
     "name": "stderr",
     "output_type": "stream",
     "text": [
      " 40%|████      | 125/312 [15:17<1:02:11, 19.95s/it]"
     ]
    },
    {
     "name": "stdout",
     "output_type": "stream",
     "text": [
      "125 / 312\n",
      "\n",
      "https://www.youtube.com/watch?v=lOXPW8VxE0w\n"
     ]
    },
    {
     "name": "stderr",
     "output_type": "stream",
     "text": [
      " 40%|████      | 126/312 [15:29<54:20, 17.53s/it]  "
     ]
    },
    {
     "name": "stdout",
     "output_type": "stream",
     "text": [
      "126 / 312\n",
      "\n",
      "https://www.youtube.com/watch?v=c1XaxZtk6M0\n"
     ]
    },
    {
     "name": "stderr",
     "output_type": "stream",
     "text": [
      " 41%|████      | 127/312 [15:39<47:29, 15.40s/it]"
     ]
    },
    {
     "name": "stdout",
     "output_type": "stream",
     "text": [
      "127 / 312\n",
      "\n",
      "https://www.youtube.com/watch?v=rVZVJ2XmgtM\n"
     ]
    },
    {
     "name": "stderr",
     "output_type": "stream",
     "text": [
      " 41%|████      | 128/312 [15:45<38:12, 12.46s/it]"
     ]
    },
    {
     "name": "stdout",
     "output_type": "stream",
     "text": [
      "128 / 312\n",
      "\n",
      "https://www.youtube.com/watch?v=IBclNeJbsTY\n"
     ]
    },
    {
     "name": "stderr",
     "output_type": "stream",
     "text": [
      " 41%|████▏     | 129/312 [15:53<34:26, 11.29s/it]"
     ]
    },
    {
     "name": "stdout",
     "output_type": "stream",
     "text": [
      "129 / 312\n",
      "\n",
      "https://www.youtube.com/watch?v=upV2SUKUyqQ\n"
     ]
    },
    {
     "name": "stderr",
     "output_type": "stream",
     "text": [
      " 42%|████▏     | 130/312 [16:10<38:50, 12.81s/it]"
     ]
    },
    {
     "name": "stdout",
     "output_type": "stream",
     "text": [
      "130 / 312\n",
      "\n",
      "https://www.youtube.com/watch?v=bCs3Y33ewYg\n"
     ]
    },
    {
     "name": "stderr",
     "output_type": "stream",
     "text": [
      " 42%|████▏     | 131/312 [16:26<41:39, 13.81s/it]"
     ]
    },
    {
     "name": "stdout",
     "output_type": "stream",
     "text": [
      "131 / 312\n",
      "\n",
      "https://www.youtube.com/watch?v=02qlfsQXKhc\n"
     ]
    },
    {
     "name": "stderr",
     "output_type": "stream",
     "text": [
      " 42%|████▏     | 132/312 [16:56<56:09, 18.72s/it]"
     ]
    },
    {
     "name": "stdout",
     "output_type": "stream",
     "text": [
      "132 / 312\n",
      "\n",
      "https://www.youtube.com/watch?v=_gznrduwsmA\n"
     ]
    },
    {
     "name": "stderr",
     "output_type": "stream",
     "text": [
      " 43%|████▎     | 133/312 [19:07<2:36:39, 52.51s/it]"
     ]
    },
    {
     "name": "stdout",
     "output_type": "stream",
     "text": [
      "133 / 312\n",
      "\n",
      "https://www.youtube.com/watch?v=JLBH2_BHl2E\n"
     ]
    },
    {
     "name": "stderr",
     "output_type": "stream",
     "text": [
      " 43%|████▎     | 134/312 [23:08<5:23:19, 108.99s/it]"
     ]
    },
    {
     "name": "stdout",
     "output_type": "stream",
     "text": [
      "134 / 312\n",
      "\n",
      "https://www.youtube.com/watch?v=JtLBQUbkfEQ\n"
     ]
    },
    {
     "name": "stderr",
     "output_type": "stream",
     "text": [
      " 43%|████▎     | 135/312 [23:23<3:57:41, 80.57s/it] "
     ]
    },
    {
     "name": "stdout",
     "output_type": "stream",
     "text": [
      "135 / 312\n",
      "\n",
      "https://www.youtube.com/watch?v=hxrbJW6VLpw\n"
     ]
    },
    {
     "name": "stderr",
     "output_type": "stream",
     "text": [
      " 44%|████▎     | 136/312 [24:01<3:18:54, 67.81s/it]"
     ]
    },
    {
     "name": "stdout",
     "output_type": "stream",
     "text": [
      "136 / 312\n",
      "\n",
      "https://www.youtube.com/watch?v=sBeWsBw4woA\n"
     ]
    },
    {
     "name": "stderr",
     "output_type": "stream",
     "text": [
      " 44%|████▍     | 137/312 [25:12<3:20:40, 68.80s/it]"
     ]
    },
    {
     "name": "stdout",
     "output_type": "stream",
     "text": [
      "137 / 312\n",
      "\n",
      "https://www.youtube.com/watch?v=sBeWsBw4woA\n"
     ]
    },
    {
     "name": "stderr",
     "output_type": "stream",
     "text": [
      " 44%|████▍     | 138/312 [25:16<2:23:20, 49.43s/it]"
     ]
    },
    {
     "name": "stdout",
     "output_type": "stream",
     "text": [
      "138 / 312\n",
      "\n",
      "https://www.youtube.com/watch?v=WVtqPoMuk4w\n"
     ]
    },
    {
     "name": "stderr",
     "output_type": "stream",
     "text": [
      " 45%|████▍     | 139/312 [25:34<1:55:19, 39.99s/it]"
     ]
    },
    {
     "name": "stdout",
     "output_type": "stream",
     "text": [
      "139 / 312\n",
      "\n",
      "https://www.youtube.com/watch?v=bK8ENzfmKxY\n"
     ]
    },
    {
     "name": "stderr",
     "output_type": "stream",
     "text": [
      " 45%|████▍     | 140/312 [26:15<1:55:56, 40.44s/it]"
     ]
    },
    {
     "name": "stdout",
     "output_type": "stream",
     "text": [
      "140 / 312\n",
      "\n",
      "https://www.youtube.com/watch?v=ie6cHosdCG8\n"
     ]
    },
    {
     "name": "stderr",
     "output_type": "stream",
     "text": [
      " 45%|████▌     | 141/312 [27:21<2:17:05, 48.10s/it]"
     ]
    },
    {
     "name": "stdout",
     "output_type": "stream",
     "text": [
      "141 / 312\n",
      "\n",
      "https://www.youtube.com/watch?v=qMGPXzl_RjI\n"
     ]
    },
    {
     "name": "stderr",
     "output_type": "stream",
     "text": [
      " 46%|████▌     | 142/312 [28:08<2:14:49, 47.59s/it]"
     ]
    },
    {
     "name": "stdout",
     "output_type": "stream",
     "text": [
      "142 / 312\n",
      "\n",
      "https://www.youtube.com/watch?v=JDYQD6EjuVQ\n"
     ]
    },
    {
     "name": "stderr",
     "output_type": "stream",
     "text": [
      " 46%|████▌     | 143/312 [28:24<1:47:41, 38.23s/it]"
     ]
    },
    {
     "name": "stdout",
     "output_type": "stream",
     "text": [
      "143 / 312\n",
      "\n",
      "https://www.youtube.com/watch?v=MEBMy9t6Xmk\n"
     ]
    },
    {
     "name": "stderr",
     "output_type": "stream",
     "text": [
      " 46%|████▌     | 144/312 [28:32<1:21:44, 29.20s/it]"
     ]
    },
    {
     "name": "stdout",
     "output_type": "stream",
     "text": [
      "144 / 312\n",
      "\n",
      "https://www.youtube.com/watch?v=npkpi6fNZTw\n"
     ]
    },
    {
     "name": "stderr",
     "output_type": "stream",
     "text": [
      " 46%|████▋     | 145/312 [28:39<1:02:34, 22.48s/it]"
     ]
    },
    {
     "name": "stdout",
     "output_type": "stream",
     "text": [
      "145 / 312\n",
      "\n",
      "https://www.youtube.com/watch?v=689Ty7UnbCc\n"
     ]
    },
    {
     "name": "stderr",
     "output_type": "stream",
     "text": [
      " 47%|████▋     | 146/312 [29:52<1:44:03, 37.61s/it]"
     ]
    },
    {
     "name": "stdout",
     "output_type": "stream",
     "text": [
      "146 / 312\n",
      "\n",
      "https://www.youtube.com/watch?v=EdFpinbhyMs\n"
     ]
    },
    {
     "name": "stderr",
     "output_type": "stream",
     "text": [
      " 47%|████▋     | 147/312 [30:46<1:57:23, 42.69s/it]"
     ]
    },
    {
     "name": "stdout",
     "output_type": "stream",
     "text": [
      "147 / 312\n",
      "\n",
      "https://www.youtube.com/watch?v=hSWtyu7Tmmo\n"
     ]
    },
    {
     "name": "stderr",
     "output_type": "stream",
     "text": [
      " 47%|████▋     | 148/312 [31:10<1:41:08, 37.00s/it]"
     ]
    },
    {
     "name": "stdout",
     "output_type": "stream",
     "text": [
      "148 / 312\n",
      "\n",
      "https://www.youtube.com/watch?v=6TraRPgJxWI\n"
     ]
    },
    {
     "name": "stderr",
     "output_type": "stream",
     "text": [
      " 48%|████▊     | 149/312 [31:26<1:22:49, 30.49s/it]"
     ]
    },
    {
     "name": "stdout",
     "output_type": "stream",
     "text": [
      "149 / 312\n",
      "\n",
      "https://www.youtube.com/watch?v=wzWOgPfOsgw\n"
     ]
    },
    {
     "name": "stderr",
     "output_type": "stream",
     "text": [
      " 48%|████▊     | 150/312 [31:30<1:01:38, 22.83s/it]"
     ]
    },
    {
     "name": "stdout",
     "output_type": "stream",
     "text": [
      "150 / 312\n",
      "\n",
      "https://www.youtube.com/watch?v=VDYEHFhh49U\n"
     ]
    },
    {
     "name": "stderr",
     "output_type": "stream",
     "text": [
      " 48%|████▊     | 151/312 [32:28<1:29:32, 33.37s/it]"
     ]
    },
    {
     "name": "stdout",
     "output_type": "stream",
     "text": [
      "151 / 312\n",
      "\n",
      "https://www.youtube.com/watch?v=s4Bo9ie70jk\n"
     ]
    },
    {
     "name": "stderr",
     "output_type": "stream",
     "text": [
      " 49%|████▊     | 152/312 [32:44<1:14:29, 27.93s/it]"
     ]
    },
    {
     "name": "stdout",
     "output_type": "stream",
     "text": [
      "152 / 312\n",
      "\n",
      "https://www.youtube.com/watch?v=aN6NUd7q-Ac\n"
     ]
    },
    {
     "name": "stderr",
     "output_type": "stream",
     "text": [
      " 49%|████▉     | 153/312 [32:55<1:00:52, 22.97s/it]"
     ]
    },
    {
     "name": "stdout",
     "output_type": "stream",
     "text": [
      "153 / 312\n",
      "\n",
      "https://www.youtube.com/watch?v=2nvFXJxoDR8\n"
     ]
    },
    {
     "name": "stderr",
     "output_type": "stream",
     "text": [
      " 49%|████▉     | 154/312 [34:02<1:35:33, 36.29s/it]"
     ]
    },
    {
     "name": "stdout",
     "output_type": "stream",
     "text": [
      "154 / 312\n",
      "\n",
      "https://www.youtube.com/watch?v=b9cZDUTPhQ0\n"
     ]
    },
    {
     "name": "stderr",
     "output_type": "stream",
     "text": [
      " 50%|████▉     | 155/312 [34:46<1:40:36, 38.45s/it]"
     ]
    },
    {
     "name": "stdout",
     "output_type": "stream",
     "text": [
      "155 / 312\n",
      "\n",
      "https://www.youtube.com/watch?v=6jS9n1D59OM\n"
     ]
    },
    {
     "name": "stderr",
     "output_type": "stream",
     "text": [
      " 50%|█████     | 156/312 [36:33<2:33:08, 58.90s/it]"
     ]
    },
    {
     "name": "stdout",
     "output_type": "stream",
     "text": [
      "156 / 312\n",
      "\n",
      "https://www.youtube.com/watch?v=f5kq7QO23hk\n"
     ]
    },
    {
     "name": "stderr",
     "output_type": "stream",
     "text": [
      " 50%|█████     | 157/312 [36:43<1:54:53, 44.47s/it]"
     ]
    },
    {
     "name": "stdout",
     "output_type": "stream",
     "text": [
      "157 / 312\n",
      "\n",
      "https://www.youtube.com/watch?v=ZXDqpVbfc-4\n"
     ]
    },
    {
     "name": "stderr",
     "output_type": "stream",
     "text": [
      " 51%|█████     | 158/312 [37:25<1:51:56, 43.62s/it]"
     ]
    },
    {
     "name": "stdout",
     "output_type": "stream",
     "text": [
      "158 / 312\n",
      "\n",
      "https://www.youtube.com/watch?v=e7gTnbiEEZY\n"
     ]
    },
    {
     "name": "stderr",
     "output_type": "stream",
     "text": [
      " 51%|█████     | 159/312 [37:40<1:29:05, 34.93s/it]"
     ]
    },
    {
     "name": "stdout",
     "output_type": "stream",
     "text": [
      "159 / 312\n",
      "\n",
      "https://www.youtube.com/watch?v=TR5QdH_z0Q0\n"
     ]
    },
    {
     "name": "stderr",
     "output_type": "stream",
     "text": [
      " 51%|█████▏    | 160/312 [38:53<1:57:45, 46.49s/it]"
     ]
    },
    {
     "name": "stdout",
     "output_type": "stream",
     "text": [
      "160 / 312\n",
      "\n",
      "https://www.youtube.com/watch?v=4BL3j9gsGVY\n"
     ]
    },
    {
     "name": "stderr",
     "output_type": "stream",
     "text": [
      " 52%|█████▏    | 161/312 [39:29<1:48:38, 43.17s/it]"
     ]
    },
    {
     "name": "stdout",
     "output_type": "stream",
     "text": [
      "161 / 312\n",
      "\n",
      "https://www.youtube.com/watch?v=aa5XTmMhP4s\n"
     ]
    },
    {
     "name": "stderr",
     "output_type": "stream",
     "text": [
      " 52%|█████▏    | 162/312 [40:05<1:42:32, 41.02s/it]"
     ]
    },
    {
     "name": "stdout",
     "output_type": "stream",
     "text": [
      "162 / 312\n",
      "\n",
      "https://www.youtube.com/watch?v=dAOU3JIpSew\n"
     ]
    },
    {
     "name": "stderr",
     "output_type": "stream",
     "text": [
      " 52%|█████▏    | 163/312 [40:25<1:26:27, 34.81s/it]"
     ]
    },
    {
     "name": "stdout",
     "output_type": "stream",
     "text": [
      "163 / 312\n",
      "\n",
      "https://www.youtube.com/watch?v=-d2WL0NPMy0\n"
     ]
    },
    {
     "name": "stderr",
     "output_type": "stream",
     "text": [
      " 53%|█████▎    | 164/312 [40:52<1:19:59, 32.43s/it]"
     ]
    },
    {
     "name": "stdout",
     "output_type": "stream",
     "text": [
      "164 / 312\n",
      "\n",
      "https://www.youtube.com/watch?v=gdDD8DvMckY\n"
     ]
    },
    {
     "name": "stderr",
     "output_type": "stream",
     "text": [
      " 53%|█████▎    | 165/312 [42:07<1:50:38, 45.16s/it]"
     ]
    },
    {
     "name": "stdout",
     "output_type": "stream",
     "text": [
      "165 / 312\n",
      "\n",
      "https://www.youtube.com/watch?v=_FA9KfJEplM\n"
     ]
    },
    {
     "name": "stderr",
     "output_type": "stream",
     "text": [
      " 53%|█████▎    | 166/312 [42:47<1:46:38, 43.82s/it]"
     ]
    },
    {
     "name": "stdout",
     "output_type": "stream",
     "text": [
      "166 / 312\n",
      "\n",
      "https://www.youtube.com/watch?v=gwLJ81HjyDs\n"
     ]
    },
    {
     "name": "stderr",
     "output_type": "stream",
     "text": [
      " 54%|█████▎    | 167/312 [43:15<1:34:06, 38.94s/it]"
     ]
    },
    {
     "name": "stdout",
     "output_type": "stream",
     "text": [
      "167 / 312\n",
      "\n",
      "https://www.youtube.com/watch?v=5gdPVT-Mumg\n"
     ]
    },
    {
     "name": "stderr",
     "output_type": "stream",
     "text": [
      " 54%|█████▍    | 168/312 [43:15<1:05:48, 27.42s/it]"
     ]
    },
    {
     "name": "stdout",
     "output_type": "stream",
     "text": [
      "Too short download https://www.youtube.com/watch?v=5gdPVT-Mumg\n",
      "168 / 312\n",
      "\n",
      "https://www.youtube.com/watch?v=_KPRx2yMhW0\n"
     ]
    },
    {
     "name": "stderr",
     "output_type": "stream",
     "text": [
      " 54%|█████▍    | 169/312 [44:46<1:50:51, 46.51s/it]"
     ]
    },
    {
     "name": "stdout",
     "output_type": "stream",
     "text": [
      "169 / 312\n",
      "\n",
      "https://www.youtube.com/watch?v=cvEc_8SSSMc\n"
     ]
    },
    {
     "name": "stderr",
     "output_type": "stream",
     "text": [
      " 54%|█████▍    | 170/312 [44:54<1:22:37, 34.91s/it]"
     ]
    },
    {
     "name": "stdout",
     "output_type": "stream",
     "text": [
      "170 / 312\n",
      "\n",
      "https://www.youtube.com/watch?v=fkxlqb_VDkY\n"
     ]
    },
    {
     "name": "stderr",
     "output_type": "stream",
     "text": [
      " 55%|█████▍    | 171/312 [45:24<1:18:42, 33.49s/it]"
     ]
    },
    {
     "name": "stdout",
     "output_type": "stream",
     "text": [
      "171 / 312\n",
      "\n",
      "https://www.youtube.com/watch?v=THUsu7Gvcm8\n"
     ]
    },
    {
     "name": "stderr",
     "output_type": "stream",
     "text": [
      " 55%|█████▌    | 172/312 [46:03<1:21:53, 35.10s/it]"
     ]
    },
    {
     "name": "stdout",
     "output_type": "stream",
     "text": [
      "172 / 312\n",
      "\n",
      "https://www.youtube.com/watch?v=Lqhwiu6-fps\n"
     ]
    },
    {
     "name": "stderr",
     "output_type": "stream",
     "text": [
      " 55%|█████▌    | 173/312 [48:25<2:35:22, 67.06s/it]"
     ]
    },
    {
     "name": "stdout",
     "output_type": "stream",
     "text": [
      "173 / 312\n",
      "\n",
      "https://www.youtube.com/watch?v=hta43nR_DNg\n"
     ]
    },
    {
     "name": "stderr",
     "output_type": "stream",
     "text": [
      " 56%|█████▌    | 174/312 [49:12<2:20:06, 60.92s/it]"
     ]
    },
    {
     "name": "stdout",
     "output_type": "stream",
     "text": [
      "174 / 312\n",
      "\n",
      "https://www.youtube.com/watch?v=2fzl5PDCF3c\n"
     ]
    },
    {
     "name": "stderr",
     "output_type": "stream",
     "text": [
      " 56%|█████▌    | 175/312 [50:22<2:25:37, 63.77s/it]"
     ]
    },
    {
     "name": "stdout",
     "output_type": "stream",
     "text": [
      "175 / 312\n",
      "\n",
      "https://www.youtube.com/watch?v=L02tgh8thDc\n"
     ]
    },
    {
     "name": "stderr",
     "output_type": "stream",
     "text": [
      " 56%|█████▋    | 176/312 [50:33<1:48:29, 47.86s/it]"
     ]
    },
    {
     "name": "stdout",
     "output_type": "stream",
     "text": [
      "176 / 312\n",
      "\n",
      "https://www.youtube.com/watch?v=bxBz0d_x-64\n"
     ]
    },
    {
     "name": "stderr",
     "output_type": "stream",
     "text": [
      " 57%|█████▋    | 177/312 [50:51<1:27:26, 38.86s/it]"
     ]
    },
    {
     "name": "stdout",
     "output_type": "stream",
     "text": [
      "177 / 312\n",
      "\n",
      "https://www.youtube.com/watch?v=CVV5mTbj00A\n"
     ]
    },
    {
     "name": "stderr",
     "output_type": "stream",
     "text": [
      " 57%|█████▋    | 178/312 [51:50<1:40:29, 45.00s/it]"
     ]
    },
    {
     "name": "stdout",
     "output_type": "stream",
     "text": [
      "178 / 312\n",
      "\n",
      "https://www.youtube.com/watch?v=Su0PsisSe5Q\n"
     ]
    },
    {
     "name": "stderr",
     "output_type": "stream",
     "text": [
      " 57%|█████▋    | 179/312 [51:58<1:15:30, 34.07s/it]"
     ]
    },
    {
     "name": "stdout",
     "output_type": "stream",
     "text": [
      "179 / 312\n",
      "\n",
      "https://www.youtube.com/watch?v=1xLmSmZptOY\n"
     ]
    },
    {
     "name": "stderr",
     "output_type": "stream",
     "text": [
      " 58%|█████▊    | 180/312 [52:16<1:04:15, 29.21s/it]"
     ]
    },
    {
     "name": "stdout",
     "output_type": "stream",
     "text": [
      "180 / 312\n",
      "\n",
      "https://www.youtube.com/watch?v=5IV16K7MerM\n"
     ]
    },
    {
     "name": "stderr",
     "output_type": "stream",
     "text": [
      " 58%|█████▊    | 181/312 [52:56<1:10:32, 32.31s/it]"
     ]
    },
    {
     "name": "stdout",
     "output_type": "stream",
     "text": [
      "181 / 312\n",
      "\n",
      "https://www.youtube.com/watch?v=5TRhOClmxfk\n"
     ]
    },
    {
     "name": "stderr",
     "output_type": "stream",
     "text": [
      " 58%|█████▊    | 182/312 [53:15<1:01:09, 28.23s/it]"
     ]
    },
    {
     "name": "stdout",
     "output_type": "stream",
     "text": [
      "182 / 312\n",
      "\n",
      "https://www.youtube.com/watch?v=jdCKahVVx0Q\n"
     ]
    },
    {
     "name": "stderr",
     "output_type": "stream",
     "text": [
      " 59%|█████▊    | 183/312 [53:59<1:11:16, 33.15s/it]"
     ]
    },
    {
     "name": "stdout",
     "output_type": "stream",
     "text": [
      "183 / 312\n",
      "\n",
      "https://www.youtube.com/watch?v=1XRXsHlKsrk\n"
     ]
    },
    {
     "name": "stderr",
     "output_type": "stream",
     "text": [
      " 59%|█████▉    | 184/312 [54:13<58:30, 27.42s/it]  "
     ]
    },
    {
     "name": "stdout",
     "output_type": "stream",
     "text": [
      "184 / 312\n",
      "\n",
      "https://www.youtube.com/watch?v=dupRfZKq6vY\n"
     ]
    },
    {
     "name": "stderr",
     "output_type": "stream",
     "text": [
      " 59%|█████▉    | 185/312 [55:13<1:18:25, 37.05s/it]"
     ]
    },
    {
     "name": "stdout",
     "output_type": "stream",
     "text": [
      "185 / 312\n",
      "\n",
      "https://www.youtube.com/watch?v=ikDk0UzVL40\n"
     ]
    },
    {
     "name": "stderr",
     "output_type": "stream",
     "text": [
      " 60%|█████▉    | 186/312 [55:34<1:07:41, 32.24s/it]"
     ]
    },
    {
     "name": "stdout",
     "output_type": "stream",
     "text": [
      "186 / 312\n",
      "\n",
      "https://www.youtube.com/watch?v=n_46kyi1q8g\n"
     ]
    },
    {
     "name": "stderr",
     "output_type": "stream",
     "text": [
      " 60%|█████▉    | 187/312 [55:41<51:28, 24.71s/it]  "
     ]
    },
    {
     "name": "stdout",
     "output_type": "stream",
     "text": [
      "187 / 312\n",
      "\n",
      "https://www.youtube.com/watch?v=wA8vX3zlh1s\n"
     ]
    },
    {
     "name": "stderr",
     "output_type": "stream",
     "text": [
      " 60%|██████    | 188/312 [55:53<42:57, 20.79s/it]"
     ]
    },
    {
     "name": "stdout",
     "output_type": "stream",
     "text": [
      "188 / 312\n",
      "\n",
      "https://www.youtube.com/watch?v=qy9PjQH5ua0\n"
     ]
    },
    {
     "name": "stderr",
     "output_type": "stream",
     "text": [
      " 61%|██████    | 189/312 [56:08<39:01, 19.04s/it]"
     ]
    },
    {
     "name": "stdout",
     "output_type": "stream",
     "text": [
      "189 / 312\n",
      "\n",
      "https://www.youtube.com/watch?v=v_mvmMo_d-A\n"
     ]
    },
    {
     "name": "stderr",
     "output_type": "stream",
     "text": [
      " 61%|██████    | 190/312 [56:20<34:56, 17.18s/it]"
     ]
    },
    {
     "name": "stdout",
     "output_type": "stream",
     "text": [
      "190 / 312\n",
      "\n",
      "https://www.youtube.com/watch?v=RhsjcLUmndo\n"
     ]
    },
    {
     "name": "stderr",
     "output_type": "stream",
     "text": [
      " 61%|██████    | 191/312 [57:11<54:58, 27.26s/it]"
     ]
    },
    {
     "name": "stdout",
     "output_type": "stream",
     "text": [
      "191 / 312\n",
      "\n",
      "https://www.youtube.com/watch?v=M5x7ynDm48c\n"
     ]
    },
    {
     "name": "stderr",
     "output_type": "stream",
     "text": [
      " 62%|██████▏   | 192/312 [57:24<45:41, 22.84s/it]"
     ]
    },
    {
     "name": "stdout",
     "output_type": "stream",
     "text": [
      "192 / 312\n",
      "\n",
      "https://www.youtube.com/watch?v=K9UfPcTQPdk\n"
     ]
    },
    {
     "name": "stderr",
     "output_type": "stream",
     "text": [
      " 62%|██████▏   | 193/312 [58:08<58:10, 29.33s/it]"
     ]
    },
    {
     "name": "stdout",
     "output_type": "stream",
     "text": [
      "193 / 312\n",
      "\n",
      "https://www.youtube.com/watch?v=LJQw1vuW_FI\n"
     ]
    },
    {
     "name": "stderr",
     "output_type": "stream",
     "text": [
      " 62%|██████▏   | 194/312 [59:03<1:12:35, 36.91s/it]"
     ]
    },
    {
     "name": "stdout",
     "output_type": "stream",
     "text": [
      "194 / 312\n",
      "\n",
      "https://www.youtube.com/watch?v=ZU8zlYw9bq0\n"
     ]
    },
    {
     "name": "stderr",
     "output_type": "stream",
     "text": [
      " 62%|██████▎   | 195/312 [1:01:12<2:05:44, 64.48s/it]"
     ]
    },
    {
     "name": "stdout",
     "output_type": "stream",
     "text": [
      "195 / 312\n",
      "\n",
      "https://www.youtube.com/watch?v=E70zE2bDItY\n"
     ]
    },
    {
     "name": "stderr",
     "output_type": "stream",
     "text": [
      " 63%|██████▎   | 196/312 [1:01:38<1:42:32, 53.04s/it]"
     ]
    },
    {
     "name": "stdout",
     "output_type": "stream",
     "text": [
      "196 / 312\n",
      "\n",
      "https://www.youtube.com/watch?v=oQBMRtQRICM\n"
     ]
    },
    {
     "name": "stderr",
     "output_type": "stream",
     "text": [
      " 63%|██████▎   | 197/312 [1:01:54<1:20:34, 42.04s/it]"
     ]
    },
    {
     "name": "stdout",
     "output_type": "stream",
     "text": [
      "197 / 312\n",
      "\n",
      "https://www.youtube.com/watch?v=c4qBCd_4RC4\n"
     ]
    },
    {
     "name": "stderr",
     "output_type": "stream",
     "text": [
      " 63%|██████▎   | 198/312 [1:02:15<1:07:53, 35.74s/it]"
     ]
    },
    {
     "name": "stdout",
     "output_type": "stream",
     "text": [
      "198 / 312\n",
      "\n",
      "https://www.youtube.com/watch?v=tRR3PZlmGEQ\n"
     ]
    },
    {
     "name": "stderr",
     "output_type": "stream",
     "text": [
      " 64%|██████▍   | 199/312 [1:02:24<52:13, 27.73s/it]  "
     ]
    },
    {
     "name": "stdout",
     "output_type": "stream",
     "text": [
      "199 / 312\n",
      "\n",
      "https://www.youtube.com/watch?v=cct3MtYbPPc\n"
     ]
    },
    {
     "name": "stderr",
     "output_type": "stream",
     "text": [
      " 64%|██████▍   | 200/312 [1:03:05<59:03, 31.64s/it]"
     ]
    },
    {
     "name": "stdout",
     "output_type": "stream",
     "text": [
      "200 / 312\n",
      "\n",
      "https://www.youtube.com/watch?v=KyEFxIVabOs\n"
     ]
    },
    {
     "name": "stderr",
     "output_type": "stream",
     "text": [
      " 64%|██████▍   | 201/312 [1:03:32<55:49, 30.17s/it]"
     ]
    },
    {
     "name": "stdout",
     "output_type": "stream",
     "text": [
      "201 / 312\n",
      "\n",
      "https://www.youtube.com/watch?v=pWaH9O91mfQ\n"
     ]
    },
    {
     "name": "stderr",
     "output_type": "stream",
     "text": [
      " 65%|██████▍   | 202/312 [1:04:13<1:01:07, 33.34s/it]"
     ]
    },
    {
     "name": "stdout",
     "output_type": "stream",
     "text": [
      "202 / 312\n",
      "\n",
      "https://www.youtube.com/watch?v=aO3kQe_7FiA\n"
     ]
    },
    {
     "name": "stderr",
     "output_type": "stream",
     "text": [
      " 65%|██████▌   | 203/312 [1:04:20<46:40, 25.69s/it]  "
     ]
    },
    {
     "name": "stdout",
     "output_type": "stream",
     "text": [
      "203 / 312\n",
      "\n",
      "https://www.youtube.com/watch?v=tOGCvK7vQvw\n"
     ]
    },
    {
     "name": "stderr",
     "output_type": "stream",
     "text": [
      " 65%|██████▌   | 204/312 [1:04:33<39:23, 21.88s/it]"
     ]
    },
    {
     "name": "stdout",
     "output_type": "stream",
     "text": [
      "204 / 312\n",
      "\n",
      "https://www.youtube.com/watch?v=hFtn5IbP9Z8\n"
     ]
    },
    {
     "name": "stderr",
     "output_type": "stream",
     "text": [
      " 66%|██████▌   | 205/312 [1:05:22<53:28, 29.98s/it]"
     ]
    },
    {
     "name": "stdout",
     "output_type": "stream",
     "text": [
      "205 / 312\n",
      "\n",
      "https://www.youtube.com/watch?v=nkvq4uIvYzk\n"
     ]
    },
    {
     "name": "stderr",
     "output_type": "stream",
     "text": [
      " 66%|██████▌   | 206/312 [1:05:37<44:37, 25.26s/it]"
     ]
    },
    {
     "name": "stdout",
     "output_type": "stream",
     "text": [
      "206 / 312\n",
      "\n",
      "https://www.youtube.com/watch?v=NQV95CYGTiY\n"
     ]
    },
    {
     "name": "stderr",
     "output_type": "stream",
     "text": [
      " 66%|██████▋   | 207/312 [1:07:02<1:15:36, 43.21s/it]"
     ]
    },
    {
     "name": "stdout",
     "output_type": "stream",
     "text": [
      "207 / 312\n",
      "\n",
      "https://www.youtube.com/watch?v=oaF2L59Tm9k\n"
     ]
    },
    {
     "name": "stderr",
     "output_type": "stream",
     "text": [
      " 67%|██████▋   | 208/312 [1:08:07<1:26:28, 49.89s/it]"
     ]
    },
    {
     "name": "stdout",
     "output_type": "stream",
     "text": [
      "208 / 312\n",
      "\n",
      "https://www.youtube.com/watch?v=d2HGZlKypG8\n"
     ]
    },
    {
     "name": "stderr",
     "output_type": "stream",
     "text": [
      " 67%|██████▋   | 209/312 [1:08:51<1:22:22, 47.99s/it]"
     ]
    },
    {
     "name": "stdout",
     "output_type": "stream",
     "text": [
      "209 / 312\n",
      "\n",
      "https://www.youtube.com/watch?v=qX5SN2joSHg\n"
     ]
    },
    {
     "name": "stderr",
     "output_type": "stream",
     "text": [
      " 67%|██████▋   | 210/312 [1:09:17<1:10:28, 41.46s/it]"
     ]
    },
    {
     "name": "stdout",
     "output_type": "stream",
     "text": [
      "210 / 312\n",
      "\n",
      "https://www.youtube.com/watch?v=3XDUKHNjS8c\n"
     ]
    },
    {
     "name": "stderr",
     "output_type": "stream",
     "text": [
      " 68%|██████▊   | 211/312 [1:10:19<1:20:03, 47.56s/it]"
     ]
    },
    {
     "name": "stdout",
     "output_type": "stream",
     "text": [
      "211 / 312\n",
      "\n",
      "https://www.youtube.com/watch?v=RorIdxF2Wcw\n"
     ]
    },
    {
     "name": "stderr",
     "output_type": "stream",
     "text": [
      " 68%|██████▊   | 212/312 [1:10:38<1:05:16, 39.16s/it]"
     ]
    },
    {
     "name": "stdout",
     "output_type": "stream",
     "text": [
      "212 / 312\n",
      "\n",
      "https://www.youtube.com/watch?v=4yHLTEueoHM\n"
     ]
    },
    {
     "name": "stderr",
     "output_type": "stream",
     "text": [
      " 68%|██████▊   | 213/312 [1:10:53<52:22, 31.74s/it]  "
     ]
    },
    {
     "name": "stdout",
     "output_type": "stream",
     "text": [
      "213 / 312\n",
      "\n",
      "https://www.youtube.com/watch?v=sHKIc9lX0js\n"
     ]
    },
    {
     "name": "stderr",
     "output_type": "stream",
     "text": [
      " 69%|██████▊   | 214/312 [1:12:05<1:11:48, 43.97s/it]"
     ]
    },
    {
     "name": "stdout",
     "output_type": "stream",
     "text": [
      "214 / 312\n",
      "\n",
      "https://www.youtube.com/watch?v=o0R1aPNJ26o\n"
     ]
    },
    {
     "name": "stderr",
     "output_type": "stream",
     "text": [
      " 69%|██████▉   | 215/312 [1:12:15<54:39, 33.81s/it]  "
     ]
    },
    {
     "name": "stdout",
     "output_type": "stream",
     "text": [
      "215 / 312\n",
      "\n",
      "https://www.youtube.com/watch?v=sGHS2LBEidU\n"
     ]
    },
    {
     "name": "stderr",
     "output_type": "stream",
     "text": [
      " 69%|██████▉   | 216/312 [1:13:45<1:20:58, 50.61s/it]"
     ]
    },
    {
     "name": "stdout",
     "output_type": "stream",
     "text": [
      "216 / 312\n",
      "\n",
      "https://www.youtube.com/watch?v=xWu-R88u9yU\n"
     ]
    },
    {
     "name": "stderr",
     "output_type": "stream",
     "text": [
      " 70%|██████▉   | 217/312 [1:15:47<1:54:03, 72.04s/it]"
     ]
    },
    {
     "name": "stdout",
     "output_type": "stream",
     "text": [
      "217 / 312\n",
      "\n",
      "https://www.youtube.com/watch?v=AmK_zK4cGqI\n"
     ]
    },
    {
     "name": "stderr",
     "output_type": "stream",
     "text": [
      " 70%|██████▉   | 218/312 [1:16:30<1:39:21, 63.42s/it]"
     ]
    },
    {
     "name": "stdout",
     "output_type": "stream",
     "text": [
      "218 / 312\n",
      "\n",
      "https://www.youtube.com/watch?v=GwW3m6wbVHY\n"
     ]
    },
    {
     "name": "stderr",
     "output_type": "stream",
     "text": [
      " 70%|███████   | 219/312 [1:17:16<1:29:52, 57.98s/it]"
     ]
    },
    {
     "name": "stdout",
     "output_type": "stream",
     "text": [
      "219 / 312\n",
      "\n",
      "https://www.youtube.com/watch?v=zq-IBiO_GMA\n"
     ]
    },
    {
     "name": "stderr",
     "output_type": "stream",
     "text": [
      " 71%|███████   | 220/312 [1:17:42<1:14:30, 48.59s/it]"
     ]
    },
    {
     "name": "stdout",
     "output_type": "stream",
     "text": [
      "220 / 312\n",
      "\n",
      "https://www.youtube.com/watch?v=wTAW_6tLOik\n"
     ]
    },
    {
     "name": "stderr",
     "output_type": "stream",
     "text": [
      " 71%|███████   | 221/312 [1:18:53<1:23:32, 55.08s/it]"
     ]
    },
    {
     "name": "stdout",
     "output_type": "stream",
     "text": [
      "221 / 312\n",
      "\n",
      "https://www.youtube.com/watch?v=n3XZjs6yeXo\n"
     ]
    },
    {
     "name": "stderr",
     "output_type": "stream",
     "text": [
      " 71%|███████   | 222/312 [1:19:23<1:11:19, 47.55s/it]"
     ]
    },
    {
     "name": "stdout",
     "output_type": "stream",
     "text": [
      "222 / 312\n",
      "\n",
      "https://www.youtube.com/watch?v=0U7mWBXnHCo\n"
     ]
    },
    {
     "name": "stderr",
     "output_type": "stream",
     "text": [
      " 71%|███████▏  | 223/312 [1:21:11<1:37:36, 65.80s/it]"
     ]
    },
    {
     "name": "stdout",
     "output_type": "stream",
     "text": [
      "223 / 312\n",
      "\n",
      "https://www.youtube.com/watch?v=sjbrIiemDaQ\n"
     ]
    },
    {
     "name": "stderr",
     "output_type": "stream",
     "text": [
      " 72%|███████▏  | 224/312 [1:21:50<1:24:38, 57.71s/it]"
     ]
    },
    {
     "name": "stdout",
     "output_type": "stream",
     "text": [
      "224 / 312\n",
      "\n",
      "https://www.youtube.com/watch?v=ts3bayJgiUE\n"
     ]
    },
    {
     "name": "stderr",
     "output_type": "stream",
     "text": [
      " 72%|███████▏  | 225/312 [1:23:44<1:48:25, 74.78s/it]"
     ]
    },
    {
     "name": "stdout",
     "output_type": "stream",
     "text": [
      "225 / 312\n",
      "\n",
      "https://www.youtube.com/watch?v=zq21NzPPK08\n"
     ]
    },
    {
     "name": "stderr",
     "output_type": "stream",
     "text": [
      " 72%|███████▏  | 226/312 [1:24:31<1:35:08, 66.38s/it]"
     ]
    },
    {
     "name": "stdout",
     "output_type": "stream",
     "text": [
      "226 / 312\n",
      "\n",
      "https://www.youtube.com/watch?v=GhFm0I-RCAM\n"
     ]
    },
    {
     "name": "stderr",
     "output_type": "stream",
     "text": [
      " 73%|███████▎  | 227/312 [1:24:39<1:09:09, 48.81s/it]"
     ]
    },
    {
     "name": "stdout",
     "output_type": "stream",
     "text": [
      "227 / 312\n",
      "\n",
      "https://www.youtube.com/watch?v=9StrUE0kV-Q\n"
     ]
    },
    {
     "name": "stderr",
     "output_type": "stream",
     "text": [
      " 73%|███████▎  | 228/312 [1:25:29<1:08:41, 49.07s/it]"
     ]
    },
    {
     "name": "stdout",
     "output_type": "stream",
     "text": [
      "228 / 312\n",
      "\n",
      "https://www.youtube.com/watch?v=OZxp4Fk-yF4\n"
     ]
    },
    {
     "name": "stderr",
     "output_type": "stream",
     "text": [
      " 73%|███████▎  | 229/312 [1:28:47<2:09:44, 93.79s/it]"
     ]
    },
    {
     "name": "stdout",
     "output_type": "stream",
     "text": [
      "229 / 312\n",
      "\n",
      "https://www.youtube.com/watch?v=oQXRNqaPA2w\n"
     ]
    },
    {
     "name": "stderr",
     "output_type": "stream",
     "text": [
      " 74%|███████▎  | 230/312 [1:29:20<1:43:19, 75.60s/it]"
     ]
    },
    {
     "name": "stdout",
     "output_type": "stream",
     "text": [
      "230 / 312\n",
      "\n",
      "https://www.youtube.com/watch?v=sJ-EsZxhXfE\n"
     ]
    },
    {
     "name": "stderr",
     "output_type": "stream",
     "text": [
      " 74%|███████▍  | 231/312 [1:29:28<1:14:37, 55.27s/it]"
     ]
    },
    {
     "name": "stdout",
     "output_type": "stream",
     "text": [
      "231 / 312\n",
      "\n",
      "https://www.youtube.com/watch?v=kt3A7ugpVCU\n"
     ]
    },
    {
     "name": "stderr",
     "output_type": "stream",
     "text": [
      " 74%|███████▍  | 232/312 [1:30:07<1:07:03, 50.29s/it]"
     ]
    },
    {
     "name": "stdout",
     "output_type": "stream",
     "text": [
      "232 / 312\n",
      "\n",
      "https://www.youtube.com/watch?v=bjLGLZksyZA\n"
     ]
    },
    {
     "name": "stderr",
     "output_type": "stream",
     "text": [
      " 75%|███████▍  | 233/312 [1:32:05<1:33:18, 70.87s/it]"
     ]
    },
    {
     "name": "stdout",
     "output_type": "stream",
     "text": [
      "233 / 312\n",
      "\n",
      "https://www.youtube.com/watch?v=xayNhVVkd4g\n"
     ]
    },
    {
     "name": "stderr",
     "output_type": "stream",
     "text": [
      " 75%|███████▌  | 234/312 [1:32:31<1:14:35, 57.38s/it]"
     ]
    },
    {
     "name": "stdout",
     "output_type": "stream",
     "text": [
      "234 / 312\n",
      "\n",
      "https://www.youtube.com/watch?v=um4A8dMF6FA\n"
     ]
    },
    {
     "name": "stderr",
     "output_type": "stream",
     "text": [
      " 75%|███████▌  | 235/312 [1:32:45<56:37, 44.12s/it]  "
     ]
    },
    {
     "name": "stdout",
     "output_type": "stream",
     "text": [
      "235 / 312\n",
      "\n",
      "https://www.youtube.com/watch?v=ka21Y3ZVLIA\n"
     ]
    },
    {
     "name": "stderr",
     "output_type": "stream",
     "text": [
      " 76%|███████▌  | 236/312 [1:33:21<52:47, 41.68s/it]"
     ]
    },
    {
     "name": "stdout",
     "output_type": "stream",
     "text": [
      "236 / 312\n",
      "\n",
      "https://www.youtube.com/watch?v=pv6O_KEozH4\n"
     ]
    },
    {
     "name": "stderr",
     "output_type": "stream",
     "text": [
      " 76%|███████▌  | 237/312 [1:34:11<55:34, 44.46s/it]"
     ]
    },
    {
     "name": "stdout",
     "output_type": "stream",
     "text": [
      "237 / 312\n",
      "\n",
      "https://www.youtube.com/watch?v=SgcflfKPBmM\n"
     ]
    },
    {
     "name": "stderr",
     "output_type": "stream",
     "text": [
      " 76%|███████▋  | 238/312 [1:34:35<47:01, 38.13s/it]"
     ]
    },
    {
     "name": "stdout",
     "output_type": "stream",
     "text": [
      "238 / 312\n",
      "\n",
      "https://www.youtube.com/watch?v=FqjLyc00fPY\n"
     ]
    },
    {
     "name": "stderr",
     "output_type": "stream",
     "text": [
      " 77%|███████▋  | 239/312 [1:35:13<46:34, 38.28s/it]"
     ]
    },
    {
     "name": "stdout",
     "output_type": "stream",
     "text": [
      "239 / 312\n",
      "\n",
      "https://www.youtube.com/watch?v=K-PgPLtaR_c\n"
     ]
    },
    {
     "name": "stderr",
     "output_type": "stream",
     "text": [
      " 77%|███████▋  | 240/312 [1:35:24<36:04, 30.06s/it]"
     ]
    },
    {
     "name": "stdout",
     "output_type": "stream",
     "text": [
      "240 / 312\n",
      "\n",
      "https://www.youtube.com/watch?v=4_lqA6xy0xA\n"
     ]
    },
    {
     "name": "stderr",
     "output_type": "stream",
     "text": [
      " 77%|███████▋  | 241/312 [1:35:41<30:47, 26.02s/it]"
     ]
    },
    {
     "name": "stdout",
     "output_type": "stream",
     "text": [
      "241 / 312\n",
      "\n",
      "https://www.youtube.com/watch?v=VbG9rxXZaTo\n"
     ]
    },
    {
     "name": "stderr",
     "output_type": "stream",
     "text": [
      " 78%|███████▊  | 242/312 [1:37:23<56:54, 48.78s/it]"
     ]
    },
    {
     "name": "stdout",
     "output_type": "stream",
     "text": [
      "242 / 312\n",
      "\n",
      "https://www.youtube.com/watch?v=L5v-uuYlJEs\n"
     ]
    },
    {
     "name": "stderr",
     "output_type": "stream",
     "text": [
      " 78%|███████▊  | 243/312 [1:37:43<46:08, 40.12s/it]"
     ]
    },
    {
     "name": "stdout",
     "output_type": "stream",
     "text": [
      "243 / 312\n",
      "\n",
      "https://www.youtube.com/watch?v=UBDS_rlz3Jg\n"
     ]
    },
    {
     "name": "stderr",
     "output_type": "stream",
     "text": [
      " 78%|███████▊  | 244/312 [1:43:07<2:22:10, 125.45s/it]"
     ]
    },
    {
     "name": "stdout",
     "output_type": "stream",
     "text": [
      "244 / 312\n",
      "\n",
      "https://www.youtube.com/watch?v=AEBr67aiguA\n"
     ]
    },
    {
     "name": "stderr",
     "output_type": "stream",
     "text": [
      " 79%|███████▊  | 245/312 [1:43:29<1:45:16, 94.27s/it] "
     ]
    },
    {
     "name": "stdout",
     "output_type": "stream",
     "text": [
      "245 / 312\n",
      "\n",
      "https://www.youtube.com/watch?v=-A6xxNverSk\n"
     ]
    },
    {
     "name": "stderr",
     "output_type": "stream",
     "text": [
      " 79%|███████▉  | 246/312 [1:43:56<1:21:28, 74.07s/it]"
     ]
    },
    {
     "name": "stdout",
     "output_type": "stream",
     "text": [
      "246 / 312\n",
      "\n",
      "https://www.youtube.com/watch?v=KkpJTRWKQ74\n"
     ]
    },
    {
     "name": "stderr",
     "output_type": "stream",
     "text": [
      " 79%|███████▉  | 247/312 [1:45:04<1:18:29, 72.46s/it]"
     ]
    },
    {
     "name": "stdout",
     "output_type": "stream",
     "text": [
      "247 / 312\n",
      "\n",
      "https://www.youtube.com/watch?v=w6V9ryZl3ro\n"
     ]
    },
    {
     "name": "stderr",
     "output_type": "stream",
     "text": [
      " 79%|███████▉  | 248/312 [1:45:34<1:03:40, 59.69s/it]"
     ]
    },
    {
     "name": "stdout",
     "output_type": "stream",
     "text": [
      "248 / 312\n",
      "\n",
      "https://www.youtube.com/watch?v=l9TPOXJbn74\n"
     ]
    },
    {
     "name": "stderr",
     "output_type": "stream",
     "text": [
      " 80%|███████▉  | 249/312 [1:50:11<2:10:53, 124.66s/it]"
     ]
    },
    {
     "name": "stdout",
     "output_type": "stream",
     "text": [
      "249 / 312\n",
      "\n",
      "https://www.youtube.com/watch?v=2qPHrMhWMLU\n"
     ]
    },
    {
     "name": "stderr",
     "output_type": "stream",
     "text": [
      " 80%|████████  | 250/312 [1:50:26<1:34:49, 91.76s/it] "
     ]
    },
    {
     "name": "stdout",
     "output_type": "stream",
     "text": [
      "250 / 312\n",
      "\n",
      "https://www.youtube.com/watch?v=N-WIztEw85Q\n"
     ]
    },
    {
     "name": "stderr",
     "output_type": "stream",
     "text": [
      " 80%|████████  | 251/312 [1:52:49<1:49:04, 107.29s/it]"
     ]
    },
    {
     "name": "stdout",
     "output_type": "stream",
     "text": [
      "251 / 312\n",
      "\n",
      "https://www.youtube.com/watch?v=hxnICszJIek\n"
     ]
    },
    {
     "name": "stderr",
     "output_type": "stream",
     "text": [
      " 81%|████████  | 252/312 [1:53:22<1:24:51, 84.86s/it] "
     ]
    },
    {
     "name": "stdout",
     "output_type": "stream",
     "text": [
      "252 / 312\n",
      "\n",
      "https://www.youtube.com/watch?v=eSx4pZybxaA\n"
     ]
    },
    {
     "name": "stderr",
     "output_type": "stream",
     "text": [
      " 81%|████████  | 253/312 [1:54:56<1:26:17, 87.76s/it]"
     ]
    },
    {
     "name": "stdout",
     "output_type": "stream",
     "text": [
      "253 / 312\n",
      "\n",
      "https://www.youtube.com/watch?v=d0EzHupbvMM\n"
     ]
    },
    {
     "name": "stderr",
     "output_type": "stream",
     "text": [
      " 81%|████████▏ | 254/312 [1:55:22<1:06:53, 69.19s/it]"
     ]
    },
    {
     "name": "stdout",
     "output_type": "stream",
     "text": [
      "254 / 312\n",
      "\n",
      "https://www.youtube.com/watch?v=tntf6QdfYqM\n"
     ]
    },
    {
     "name": "stderr",
     "output_type": "stream",
     "text": [
      " 82%|████████▏ | 255/312 [1:57:29<1:22:11, 86.52s/it]"
     ]
    },
    {
     "name": "stdout",
     "output_type": "stream",
     "text": [
      "255 / 312\n",
      "\n",
      "https://www.youtube.com/watch?v=qCWWfgdVB94\n"
     ]
    },
    {
     "name": "stderr",
     "output_type": "stream",
     "text": [
      " 82%|████████▏ | 256/312 [1:57:47<1:01:34, 65.98s/it]"
     ]
    },
    {
     "name": "stdout",
     "output_type": "stream",
     "text": [
      "256 / 312\n",
      "\n",
      "https://www.youtube.com/watch?v=0Cwu8xR0Z9M\n"
     ]
    },
    {
     "name": "stderr",
     "output_type": "stream",
     "text": [
      " 82%|████████▏ | 257/312 [1:58:09<48:23, 52.78s/it]  "
     ]
    },
    {
     "name": "stdout",
     "output_type": "stream",
     "text": [
      "257 / 312\n",
      "\n",
      "https://www.youtube.com/watch?v=dYxJdfuerOY\n"
     ]
    },
    {
     "name": "stderr",
     "output_type": "stream",
     "text": [
      " 83%|████████▎ | 258/312 [1:58:32<39:29, 43.88s/it]"
     ]
    },
    {
     "name": "stdout",
     "output_type": "stream",
     "text": [
      "258 / 312\n",
      "\n",
      "https://www.youtube.com/watch?v=_IAn-NLPJ5o\n"
     ]
    },
    {
     "name": "stderr",
     "output_type": "stream",
     "text": [
      " 83%|████████▎ | 259/312 [1:58:50<31:55, 36.15s/it]"
     ]
    },
    {
     "name": "stdout",
     "output_type": "stream",
     "text": [
      "259 / 312\n",
      "\n",
      "https://www.youtube.com/watch?v=yvAeouAox_8\n"
     ]
    },
    {
     "name": "stderr",
     "output_type": "stream",
     "text": [
      " 83%|████████▎ | 260/312 [1:58:53<22:44, 26.25s/it]"
     ]
    },
    {
     "name": "stdout",
     "output_type": "stream",
     "text": [
      "260 / 312\n",
      "\n",
      "https://www.youtube.com/watch?v=okxYzHZvlnc\n"
     ]
    },
    {
     "name": "stderr",
     "output_type": "stream",
     "text": [
      " 84%|████████▎ | 261/312 [2:01:38<57:42, 67.88s/it]"
     ]
    },
    {
     "name": "stdout",
     "output_type": "stream",
     "text": [
      "261 / 312\n",
      "\n",
      "https://www.youtube.com/watch?v=ir18WlJ5a5w\n"
     ]
    },
    {
     "name": "stderr",
     "output_type": "stream",
     "text": [
      " 84%|████████▍ | 262/312 [2:02:15<48:39, 58.39s/it]"
     ]
    },
    {
     "name": "stdout",
     "output_type": "stream",
     "text": [
      "262 / 312\n",
      "\n",
      "https://www.youtube.com/watch?v=0iSrfQgJHi8\n"
     ]
    },
    {
     "name": "stderr",
     "output_type": "stream",
     "text": [
      " 84%|████████▍ | 263/312 [2:02:24<35:46, 43.81s/it]"
     ]
    },
    {
     "name": "stdout",
     "output_type": "stream",
     "text": [
      "263 / 312\n",
      "\n",
      "https://www.youtube.com/watch?v=rYI0liURtn0\n"
     ]
    },
    {
     "name": "stderr",
     "output_type": "stream",
     "text": [
      " 85%|████████▍ | 264/312 [2:03:09<35:07, 43.91s/it]"
     ]
    },
    {
     "name": "stdout",
     "output_type": "stream",
     "text": [
      "264 / 312\n",
      "\n",
      "https://www.youtube.com/watch?v=pxE1TAspR6s\n"
     ]
    },
    {
     "name": "stderr",
     "output_type": "stream",
     "text": [
      " 85%|████████▍ | 265/312 [2:03:55<34:53, 44.53s/it]"
     ]
    },
    {
     "name": "stdout",
     "output_type": "stream",
     "text": [
      "265 / 312\n",
      "\n",
      "https://www.youtube.com/watch?v=VH6v_SW8tAc\n"
     ]
    },
    {
     "name": "stderr",
     "output_type": "stream",
     "text": [
      " 85%|████████▌ | 266/312 [2:05:39<47:53, 62.46s/it]"
     ]
    },
    {
     "name": "stdout",
     "output_type": "stream",
     "text": [
      "266 / 312\n",
      "\n",
      "https://www.youtube.com/watch?v=NJsJIPhyomk\n"
     ]
    },
    {
     "name": "stderr",
     "output_type": "stream",
     "text": [
      " 86%|████████▌ | 267/312 [2:06:14<40:38, 54.18s/it]"
     ]
    },
    {
     "name": "stdout",
     "output_type": "stream",
     "text": [
      "267 / 312\n",
      "\n",
      "https://www.youtube.com/watch?v=2jNASo_XySw\n"
     ]
    },
    {
     "name": "stderr",
     "output_type": "stream",
     "text": [
      " 86%|████████▌ | 268/312 [2:06:31<31:42, 43.23s/it]"
     ]
    },
    {
     "name": "stdout",
     "output_type": "stream",
     "text": [
      "268 / 312\n",
      "\n",
      "https://www.youtube.com/watch?v=fCa8GV8fQFo\n"
     ]
    },
    {
     "name": "stderr",
     "output_type": "stream",
     "text": [
      " 86%|████████▌ | 269/312 [2:06:41<23:48, 33.22s/it]"
     ]
    },
    {
     "name": "stdout",
     "output_type": "stream",
     "text": [
      "269 / 312\n",
      "\n",
      "https://www.youtube.com/watch?v=rwVxHHiZznY\n"
     ]
    },
    {
     "name": "stderr",
     "output_type": "stream",
     "text": [
      " 87%|████████▋ | 270/312 [2:06:51<18:15, 26.09s/it]"
     ]
    },
    {
     "name": "stdout",
     "output_type": "stream",
     "text": [
      "270 / 312\n",
      "\n",
      "https://www.youtube.com/watch?v=WzIjbV7EhFY\n"
     ]
    },
    {
     "name": "stderr",
     "output_type": "stream",
     "text": [
      " 87%|████████▋ | 271/312 [2:07:24<19:21, 28.32s/it]"
     ]
    },
    {
     "name": "stdout",
     "output_type": "stream",
     "text": [
      "271 / 312\n",
      "\n",
      "https://www.youtube.com/watch?v=051Qlr2dtw8\n"
     ]
    },
    {
     "name": "stderr",
     "output_type": "stream",
     "text": [
      " 87%|████████▋ | 272/312 [2:09:40<40:20, 60.51s/it]"
     ]
    },
    {
     "name": "stdout",
     "output_type": "stream",
     "text": [
      "272 / 312\n",
      "\n",
      "https://www.youtube.com/watch?v=kaSLFXtcCA4\n"
     ]
    },
    {
     "name": "stderr",
     "output_type": "stream",
     "text": [
      " 88%|████████▊ | 273/312 [2:11:48<52:34, 80.89s/it]"
     ]
    },
    {
     "name": "stdout",
     "output_type": "stream",
     "text": [
      "273 / 312\n",
      "\n",
      "https://www.youtube.com/watch?v=ezRy5jpSF88\n"
     ]
    },
    {
     "name": "stderr",
     "output_type": "stream",
     "text": [
      " 88%|████████▊ | 274/312 [2:13:11<51:38, 81.54s/it]"
     ]
    },
    {
     "name": "stdout",
     "output_type": "stream",
     "text": [
      "274 / 312\n",
      "\n",
      "https://www.youtube.com/watch?v=zmwoutCASTY\n"
     ]
    },
    {
     "name": "stderr",
     "output_type": "stream",
     "text": [
      " 88%|████████▊ | 275/312 [2:13:19<36:31, 59.24s/it]"
     ]
    },
    {
     "name": "stdout",
     "output_type": "stream",
     "text": [
      "275 / 312\n",
      "\n",
      "https://www.youtube.com/watch?v=UqeTdU9289w\n"
     ]
    },
    {
     "name": "stderr",
     "output_type": "stream",
     "text": [
      " 88%|████████▊ | 276/312 [2:15:41<50:35, 84.31s/it]"
     ]
    },
    {
     "name": "stdout",
     "output_type": "stream",
     "text": [
      "276 / 312\n",
      "\n",
      "https://www.youtube.com/watch?v=bmNt2353dyo\n"
     ]
    },
    {
     "name": "stderr",
     "output_type": "stream",
     "text": [
      " 89%|████████▉ | 277/312 [2:16:49<46:12, 79.21s/it]"
     ]
    },
    {
     "name": "stdout",
     "output_type": "stream",
     "text": [
      "277 / 312\n",
      "\n",
      "https://www.youtube.com/watch?v=ooOYCLPYyFk\n"
     ]
    },
    {
     "name": "stderr",
     "output_type": "stream",
     "text": [
      " 89%|████████▉ | 278/312 [2:17:35<39:22, 69.49s/it]"
     ]
    },
    {
     "name": "stdout",
     "output_type": "stream",
     "text": [
      "278 / 312\n",
      "\n",
      "https://www.youtube.com/watch?v=o28jfSLVduc\n"
     ]
    },
    {
     "name": "stderr",
     "output_type": "stream",
     "text": [
      " 89%|████████▉ | 279/312 [2:18:15<33:19, 60.59s/it]"
     ]
    },
    {
     "name": "stdout",
     "output_type": "stream",
     "text": [
      "279 / 312\n",
      "\n",
      "https://www.youtube.com/watch?v=v_KY04U_L3k\n"
     ]
    },
    {
     "name": "stderr",
     "output_type": "stream",
     "text": [
      " 90%|████████▉ | 280/312 [2:18:56<29:06, 54.59s/it]"
     ]
    },
    {
     "name": "stdout",
     "output_type": "stream",
     "text": [
      "280 / 312\n",
      "\n",
      "https://www.youtube.com/watch?v=VT09SMYIb8A\n"
     ]
    },
    {
     "name": "stderr",
     "output_type": "stream",
     "text": [
      " 90%|█████████ | 281/312 [2:19:07<21:24, 41.43s/it]"
     ]
    },
    {
     "name": "stdout",
     "output_type": "stream",
     "text": [
      "281 / 312\n",
      "\n",
      "https://www.youtube.com/watch?v=XVVp8BZXGiU\n"
     ]
    },
    {
     "name": "stderr",
     "output_type": "stream",
     "text": [
      " 90%|█████████ | 282/312 [2:19:20<16:34, 33.14s/it]"
     ]
    },
    {
     "name": "stdout",
     "output_type": "stream",
     "text": [
      "282 / 312\n",
      "\n",
      "https://www.youtube.com/watch?v=4IVc6YxF05U\n"
     ]
    },
    {
     "name": "stderr",
     "output_type": "stream",
     "text": [
      " 91%|█████████ | 283/312 [2:19:41<14:08, 29.26s/it]"
     ]
    },
    {
     "name": "stdout",
     "output_type": "stream",
     "text": [
      "283 / 312\n",
      "\n",
      "https://www.youtube.com/watch?v=jywmBya-0Dc\n"
     ]
    },
    {
     "name": "stderr",
     "output_type": "stream",
     "text": [
      " 91%|█████████ | 284/312 [2:19:49<10:43, 22.97s/it]"
     ]
    },
    {
     "name": "stdout",
     "output_type": "stream",
     "text": [
      "284 / 312\n",
      "\n",
      "https://www.youtube.com/watch?v=UBweUq5vSlQ\n"
     ]
    },
    {
     "name": "stderr",
     "output_type": "stream",
     "text": [
      " 91%|█████████▏| 285/312 [2:20:47<15:03, 33.45s/it]"
     ]
    },
    {
     "name": "stdout",
     "output_type": "stream",
     "text": [
      "285 / 312\n",
      "\n",
      "https://www.youtube.com/watch?v=DYZe2NpzBvo\n"
     ]
    },
    {
     "name": "stderr",
     "output_type": "stream",
     "text": [
      " 92%|█████████▏| 286/312 [2:21:25<15:10, 35.00s/it]"
     ]
    },
    {
     "name": "stdout",
     "output_type": "stream",
     "text": [
      "286 / 312\n",
      "\n",
      "https://www.youtube.com/watch?v=xHYdCjE-YK8\n"
     ]
    },
    {
     "name": "stderr",
     "output_type": "stream",
     "text": [
      " 92%|█████████▏| 287/312 [2:22:11<15:57, 38.28s/it]"
     ]
    },
    {
     "name": "stdout",
     "output_type": "stream",
     "text": [
      "287 / 312\n",
      "\n",
      "https://www.youtube.com/watch?v=S9ZoOp2skCI\n"
     ]
    },
    {
     "name": "stderr",
     "output_type": "stream",
     "text": [
      " 92%|█████████▏| 288/312 [2:23:15<18:19, 45.81s/it]"
     ]
    },
    {
     "name": "stdout",
     "output_type": "stream",
     "text": [
      "288 / 312\n",
      "\n",
      "https://www.youtube.com/watch?v=eI18NFMitzk\n"
     ]
    },
    {
     "name": "stderr",
     "output_type": "stream",
     "text": [
      " 93%|█████████▎| 289/312 [2:23:21<13:02, 34.04s/it]"
     ]
    },
    {
     "name": "stdout",
     "output_type": "stream",
     "text": [
      "289 / 312\n",
      "\n",
      "https://www.youtube.com/watch?v=J11Q6zQbnq0\n"
     ]
    },
    {
     "name": "stderr",
     "output_type": "stream",
     "text": [
      " 93%|█████████▎| 290/312 [2:23:30<09:44, 26.57s/it]"
     ]
    },
    {
     "name": "stdout",
     "output_type": "stream",
     "text": [
      "290 / 312\n",
      "\n",
      "https://www.youtube.com/watch?v=M1UNJBKwx6M\n"
     ]
    },
    {
     "name": "stderr",
     "output_type": "stream",
     "text": [
      " 93%|█████████▎| 291/312 [2:25:32<19:16, 55.07s/it]"
     ]
    },
    {
     "name": "stdout",
     "output_type": "stream",
     "text": [
      "291 / 312\n",
      "\n",
      "https://www.youtube.com/watch?v=rSe2b9ZT8Do\n"
     ]
    },
    {
     "name": "stderr",
     "output_type": "stream",
     "text": [
      " 94%|█████████▎| 292/312 [2:25:57<15:23, 46.16s/it]"
     ]
    },
    {
     "name": "stdout",
     "output_type": "stream",
     "text": [
      "292 / 312\n",
      "\n",
      "https://www.youtube.com/watch?v=o4ZJAJLZyHE\n"
     ]
    },
    {
     "name": "stderr",
     "output_type": "stream",
     "text": [
      " 94%|█████████▍| 293/312 [2:26:17<12:06, 38.23s/it]"
     ]
    },
    {
     "name": "stdout",
     "output_type": "stream",
     "text": [
      "293 / 312\n",
      "\n",
      "https://www.youtube.com/watch?v=RJnbQt7F7CE\n"
     ]
    },
    {
     "name": "stderr",
     "output_type": "stream",
     "text": [
      " 94%|█████████▍| 294/312 [2:27:06<12:26, 41.45s/it]"
     ]
    },
    {
     "name": "stdout",
     "output_type": "stream",
     "text": [
      "294 / 312\n",
      "\n",
      "https://www.youtube.com/watch?v=FcicShtI09E\n"
     ]
    },
    {
     "name": "stderr",
     "output_type": "stream",
     "text": [
      " 95%|█████████▍| 295/312 [2:27:23<09:40, 34.12s/it]"
     ]
    },
    {
     "name": "stdout",
     "output_type": "stream",
     "text": [
      "295 / 312\n",
      "\n",
      "https://www.youtube.com/watch?v=cZvcnWpDnk8\n"
     ]
    },
    {
     "name": "stderr",
     "output_type": "stream",
     "text": [
      " 95%|█████████▍| 296/312 [2:27:40<07:44, 29.01s/it]"
     ]
    },
    {
     "name": "stdout",
     "output_type": "stream",
     "text": [
      "296 / 312\n",
      "\n",
      "https://www.youtube.com/watch?v=UgbNK7bqJWA\n"
     ]
    },
    {
     "name": "stderr",
     "output_type": "stream",
     "text": [
      " 95%|█████████▌| 297/312 [2:27:54<06:07, 24.48s/it]"
     ]
    },
    {
     "name": "stdout",
     "output_type": "stream",
     "text": [
      "297 / 312\n",
      "\n",
      "https://www.youtube.com/watch?v=jqAIDOJdOHc\n"
     ]
    },
    {
     "name": "stderr",
     "output_type": "stream",
     "text": [
      " 96%|█████████▌| 298/312 [2:28:11<05:12, 22.30s/it]"
     ]
    },
    {
     "name": "stdout",
     "output_type": "stream",
     "text": [
      "298 / 312\n",
      "\n",
      "https://www.youtube.com/watch?v=URwus8tAPzs\n"
     ]
    },
    {
     "name": "stderr",
     "output_type": "stream",
     "text": [
      " 96%|█████████▌| 299/312 [2:28:18<03:48, 17.59s/it]"
     ]
    },
    {
     "name": "stdout",
     "output_type": "stream",
     "text": [
      "299 / 312\n",
      "\n",
      "https://www.youtube.com/watch?v=64dkI7as96A\n"
     ]
    },
    {
     "name": "stderr",
     "output_type": "stream",
     "text": [
      " 96%|█████████▌| 300/312 [2:28:33<03:20, 16.72s/it]"
     ]
    },
    {
     "name": "stdout",
     "output_type": "stream",
     "text": [
      "300 / 312\n",
      "\n",
      "https://www.youtube.com/watch?v=jlSfK73Lsms\n"
     ]
    },
    {
     "name": "stderr",
     "output_type": "stream",
     "text": [
      " 96%|█████████▋| 301/312 [2:28:49<03:01, 16.54s/it]"
     ]
    },
    {
     "name": "stdout",
     "output_type": "stream",
     "text": [
      "301 / 312\n",
      "\n",
      "https://www.youtube.com/watch?v=GMtD08LYdOU\n"
     ]
    },
    {
     "name": "stderr",
     "output_type": "stream",
     "text": [
      " 97%|█████████▋| 302/312 [2:29:54<05:10, 31.06s/it]"
     ]
    },
    {
     "name": "stdout",
     "output_type": "stream",
     "text": [
      "302 / 312\n",
      "\n",
      "https://www.youtube.com/watch?v=ylMLSQ4LjJU\n"
     ]
    },
    {
     "name": "stderr",
     "output_type": "stream",
     "text": [
      " 97%|█████████▋| 303/312 [2:30:02<03:38, 24.26s/it]"
     ]
    },
    {
     "name": "stdout",
     "output_type": "stream",
     "text": [
      "303 / 312\n",
      "\n",
      "https://www.youtube.com/watch?v=zoiYwTkWxJg\n"
     ]
    },
    {
     "name": "stderr",
     "output_type": "stream",
     "text": [
      " 97%|█████████▋| 304/312 [2:30:26<03:13, 24.22s/it]"
     ]
    },
    {
     "name": "stdout",
     "output_type": "stream",
     "text": [
      "304 / 312\n",
      "\n",
      "https://www.youtube.com/watch?v=WVEuM2xp7XA\n"
     ]
    },
    {
     "name": "stderr",
     "output_type": "stream",
     "text": [
      " 98%|█████████▊| 305/312 [2:30:34<02:16, 19.45s/it]"
     ]
    },
    {
     "name": "stdout",
     "output_type": "stream",
     "text": [
      "305 / 312\n",
      "\n",
      "https://www.youtube.com/watch?v=pUWuwS-mjlQ\n"
     ]
    },
    {
     "name": "stderr",
     "output_type": "stream",
     "text": [
      " 98%|█████████▊| 306/312 [2:30:46<01:43, 17.18s/it]"
     ]
    },
    {
     "name": "stdout",
     "output_type": "stream",
     "text": [
      "306 / 312\n",
      "\n",
      "https://www.youtube.com/watch?v=yQ7D3cwM6Yk\n"
     ]
    },
    {
     "name": "stderr",
     "output_type": "stream",
     "text": [
      " 98%|█████████▊| 307/312 [2:31:19<01:49, 21.87s/it]"
     ]
    },
    {
     "name": "stdout",
     "output_type": "stream",
     "text": [
      "307 / 312\n",
      "\n",
      "https://www.youtube.com/watch?v=_lZaF5Z58xE\n"
     ]
    },
    {
     "name": "stderr",
     "output_type": "stream",
     "text": [
      " 99%|█████████▊| 308/312 [2:31:35<01:19, 19.92s/it]"
     ]
    },
    {
     "name": "stdout",
     "output_type": "stream",
     "text": [
      "308 / 312\n",
      "\n",
      "https://www.youtube.com/watch?v=WZcdLJKEQQ4\n"
     ]
    },
    {
     "name": "stderr",
     "output_type": "stream",
     "text": [
      " 99%|█████████▉| 309/312 [2:31:40<00:46, 15.50s/it]"
     ]
    },
    {
     "name": "stdout",
     "output_type": "stream",
     "text": [
      "309 / 312\n",
      "\n",
      "https://www.youtube.com/watch?v=JA9Cg_C6R1g\n"
     ]
    },
    {
     "name": "stderr",
     "output_type": "stream",
     "text": [
      " 99%|█████████▉| 310/312 [2:32:00<00:33, 16.80s/it]"
     ]
    },
    {
     "name": "stdout",
     "output_type": "stream",
     "text": [
      "310 / 312\n",
      "\n",
      "https://www.youtube.com/watch?v=7Bwp_u5Z0kE\n"
     ]
    },
    {
     "name": "stderr",
     "output_type": "stream",
     "text": [
      "100%|█████████▉| 311/312 [2:32:20<00:17, 17.98s/it]"
     ]
    },
    {
     "name": "stdout",
     "output_type": "stream",
     "text": [
      "311 / 312\n",
      "\n",
      "https://www.youtube.com/watch?v=lDxLZXFcYWY\n"
     ]
    },
    {
     "name": "stderr",
     "output_type": "stream",
     "text": [
      "100%|██████████| 312/312 [2:34:41<00:00, 29.75s/it]\n"
     ]
    }
   ],
   "source": [
    "import tqdm\n",
    "for i in tqdm.tqdm(range(len(url))):\n",
    "    if i<94:continue\n",
    "    make_data(i)"
   ]
  },
  {
   "cell_type": "code",
   "execution_count": 2,
   "metadata": {},
   "outputs": [],
   "source": [
    "import cv2\n",
    "import glob\n",
    "import os"
   ]
  },
  {
   "cell_type": "code",
   "execution_count": 3,
   "metadata": {},
   "outputs": [],
   "source": [
    "mp4_list = glob.glob(\"cat/*.mp4\")\n",
    "\n",
    "for mp4_dir in mp4_list:\n",
    "    video = cv2.VideoCapture(mp4_dir)\n",
    "    ret, frame = video.read()\n",
    "    idx = -1\n",
    "    \n",
    "    os.makedirs(\"cat/{}\".format(mp4_dir), exist_ok=True)\n",
    "    while ret:\n",
    "        idx += 1\n",
    "        ret, frame = video.read()\n",
    "        if idx % 10 != 0: continue\n",
    "        frame = cv2.resize(frame, dsize=(512, 512))\n",
    "        cv2.imwrite(\"cat/{}/{}.jpg\".format(mp4_dir, idx), frame)\n",
    "    break"
   ]
  },
  {
   "cell_type": "code",
   "execution_count": null,
   "metadata": {},
   "outputs": [],
   "source": []
  }
 ],
 "metadata": {
  "colab": {
   "collapsed_sections": [],
   "name": "Untitled0.ipynb",
   "provenance": []
  },
  "kernelspec": {
   "display_name": "pytorch1.7.1_p37",
   "language": "python",
   "name": "pytorch1.7.1_p37"
  },
  "language_info": {
   "codemirror_mode": {
    "name": "ipython",
    "version": 3
   },
   "file_extension": ".py",
   "mimetype": "text/x-python",
   "name": "python",
   "nbconvert_exporter": "python",
   "pygments_lexer": "ipython3",
   "version": "3.7.10"
  }
 },
 "nbformat": 4,
 "nbformat_minor": 1
}
